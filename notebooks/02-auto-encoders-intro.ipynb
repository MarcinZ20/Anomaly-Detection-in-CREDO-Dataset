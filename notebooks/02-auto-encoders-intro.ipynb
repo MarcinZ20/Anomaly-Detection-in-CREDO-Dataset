{
 "cells": [
  {
   "cell_type": "markdown",
   "id": "286dddb5518d9146",
   "metadata": {
    "collapsed": false
   },
   "source": [
    "# CREDO dataset analysis using Auto-Encoders"
   ]
  },
  {
   "cell_type": "markdown",
   "id": "e69fec68c0738c5",
   "metadata": {
    "collapsed": false
   },
   "source": [
    "#### This notebook aims at performing exploratory data analysis on non-labeled CREDO dataset with the help of autoencoders"
   ]
  },
  {
   "cell_type": "code",
   "execution_count": 1,
   "id": "6d2d1caec9d9b0b",
   "metadata": {
    "collapsed": false,
    "ExecuteTime": {
     "end_time": "2023-11-24T12:20:21.318507Z",
     "start_time": "2023-11-24T12:20:16.005264Z"
    }
   },
   "outputs": [],
   "source": [
    "from skimage.io import imread_collection\n",
    "import matplotlib.pyplot as plt\n",
    "import os\n",
    "import numpy as np\n",
    "from keras.layers import Input, Dense, Reshape, Flatten\n",
    "from keras.models import Model\n",
    "from sklearn.model_selection import train_test_split"
   ]
  },
  {
   "cell_type": "code",
   "execution_count": 2,
   "id": "6d20fb74250bcf24",
   "metadata": {
    "collapsed": false,
    "ExecuteTime": {
     "end_time": "2023-11-24T12:20:26.922567Z",
     "start_time": "2023-11-24T12:20:26.907162Z"
    }
   },
   "outputs": [],
   "source": [
    "PROCESSED_DATA_PATH = r'../data/processed/'\n",
    "UNPROCESSED_DATA_PATH = r'../data/raw'\n",
    "FILE_FORMAT = 'png'\n",
    "COLLECTION_DIR = os.path.join(PROCESSED_DATA_PATH, f'*.{FILE_FORMAT}')"
   ]
  },
  {
   "cell_type": "code",
   "execution_count": 3,
   "id": "b5e0409a089deb0b",
   "metadata": {
    "collapsed": false,
    "ExecuteTime": {
     "end_time": "2023-11-24T12:20:27.599159Z",
     "start_time": "2023-11-24T12:20:27.563467Z"
    }
   },
   "outputs": [],
   "source": [
    "images = imread_collection(COLLECTION_DIR)"
   ]
  },
  {
   "cell_type": "code",
   "execution_count": 13,
   "outputs": [
    {
     "data": {
      "text/plain": "5915"
     },
     "execution_count": 13,
     "metadata": {},
     "output_type": "execute_result"
    }
   ],
   "source": [
    "len(images)"
   ],
   "metadata": {
    "collapsed": false,
    "ExecuteTime": {
     "end_time": "2023-11-24T12:24:38.020821Z",
     "start_time": "2023-11-24T12:24:38.013797Z"
    }
   },
   "id": "a296727b19a49d49"
  },
  {
   "cell_type": "markdown",
   "id": "93a69c8961f60fc3",
   "metadata": {
    "collapsed": false
   },
   "source": [
    "## Data preparation"
   ]
  },
  {
   "cell_type": "code",
   "execution_count": 4,
   "id": "1c0bdd49718e851f",
   "metadata": {
    "collapsed": false,
    "ExecuteTime": {
     "end_time": "2023-11-24T12:20:33.055281Z",
     "start_time": "2023-11-24T12:20:30.694501Z"
    }
   },
   "outputs": [],
   "source": [
    "images = np.array(images).astype(np.float32) / 255 "
   ]
  },
  {
   "cell_type": "code",
   "execution_count": 5,
   "id": "80987b1243b56ae9",
   "metadata": {
    "collapsed": false,
    "ExecuteTime": {
     "end_time": "2023-11-24T12:20:33.070188Z",
     "start_time": "2023-11-24T12:20:33.053596Z"
    }
   },
   "outputs": [],
   "source": [
    "X_train, X_test = train_test_split(images, train_size=0.8, random_state=42)"
   ]
  },
  {
   "cell_type": "markdown",
   "id": "4a170bef770d041b",
   "metadata": {
    "collapsed": false
   },
   "source": [
    "## Creating Autoencoder architecture"
   ]
  },
  {
   "cell_type": "code",
   "execution_count": 14,
   "id": "afb218ec7c7f3f0c",
   "metadata": {
    "collapsed": false,
    "ExecuteTime": {
     "end_time": "2023-11-24T12:36:31.945891Z",
     "start_time": "2023-11-24T12:36:31.765141Z"
    }
   },
   "outputs": [],
   "source": [
    "input_img = Input(shape=(60, 60, 1))\n",
    "\n",
    "encoded = Flatten()(input_img)\n",
    "encoded = Dense(64, activation='relu')(encoded)\n",
    "\n",
    "# Decoder\n",
    "decoded = Dense(60 * 60, activation='sigmoid')(encoded)\n",
    "decoded = Reshape((60, 60, 1))(decoded)\n",
    "\n",
    "autoencoder = Model(input_img, decoded)\n",
    "autoencoder.save(r'../models/autoencoder.keras')\n",
    "autoencoder.compile(optimizer='adam', loss='mean_squared_error')"
   ]
  },
  {
   "cell_type": "code",
   "execution_count": 15,
   "id": "75747ed48c987624",
   "metadata": {
    "collapsed": false,
    "ExecuteTime": {
     "end_time": "2023-11-24T12:36:42.636156Z",
     "start_time": "2023-11-24T12:36:33.660182Z"
    }
   },
   "outputs": [
    {
     "name": "stdout",
     "output_type": "stream",
     "text": [
      "Epoch 1/50\n",
      "19/19 [==============================] - 0s 13ms/step - loss: 0.2458 - val_loss: 0.2395\n",
      "Epoch 2/50\n",
      "19/19 [==============================] - 0s 9ms/step - loss: 0.2259 - val_loss: 0.2035\n",
      "Epoch 3/50\n",
      "19/19 [==============================] - 0s 10ms/step - loss: 0.1748 - val_loss: 0.1376\n",
      "Epoch 4/50\n",
      "19/19 [==============================] - 0s 9ms/step - loss: 0.1060 - val_loss: 0.0722\n",
      "Epoch 5/50\n",
      "19/19 [==============================] - 0s 8ms/step - loss: 0.0531 - val_loss: 0.0350\n",
      "Epoch 6/50\n",
      "19/19 [==============================] - 0s 9ms/step - loss: 0.0271 - val_loss: 0.0190\n",
      "Epoch 7/50\n",
      "19/19 [==============================] - 0s 9ms/step - loss: 0.0158 - val_loss: 0.0120\n",
      "Epoch 8/50\n",
      "19/19 [==============================] - 0s 8ms/step - loss: 0.0106 - val_loss: 0.0084\n",
      "Epoch 9/50\n",
      "19/19 [==============================] - 0s 8ms/step - loss: 0.0077 - val_loss: 0.0063\n",
      "Epoch 10/50\n",
      "19/19 [==============================] - 0s 9ms/step - loss: 0.0059 - val_loss: 0.0049\n",
      "Epoch 11/50\n",
      "19/19 [==============================] - 0s 8ms/step - loss: 0.0047 - val_loss: 0.0040\n",
      "Epoch 12/50\n",
      "19/19 [==============================] - 0s 10ms/step - loss: 0.0039 - val_loss: 0.0033\n",
      "Epoch 13/50\n",
      "19/19 [==============================] - 0s 9ms/step - loss: 0.0033 - val_loss: 0.0028\n",
      "Epoch 14/50\n",
      "19/19 [==============================] - 0s 8ms/step - loss: 0.0028 - val_loss: 0.0024\n",
      "Epoch 15/50\n",
      "19/19 [==============================] - 0s 8ms/step - loss: 0.0024 - val_loss: 0.0021\n",
      "Epoch 16/50\n",
      "19/19 [==============================] - 0s 8ms/step - loss: 0.0021 - val_loss: 0.0018\n",
      "Epoch 17/50\n",
      "19/19 [==============================] - 0s 9ms/step - loss: 0.0018 - val_loss: 0.0016\n",
      "Epoch 18/50\n",
      "19/19 [==============================] - 0s 8ms/step - loss: 0.0016 - val_loss: 0.0014\n",
      "Epoch 19/50\n",
      "19/19 [==============================] - 0s 10ms/step - loss: 0.0015 - val_loss: 0.0013\n",
      "Epoch 20/50\n",
      "19/19 [==============================] - 0s 8ms/step - loss: 0.0013 - val_loss: 0.0012\n",
      "Epoch 21/50\n",
      "19/19 [==============================] - 0s 11ms/step - loss: 0.0012 - val_loss: 0.0011\n",
      "Epoch 22/50\n",
      "19/19 [==============================] - 0s 9ms/step - loss: 0.0011 - val_loss: 9.7193e-04\n",
      "Epoch 23/50\n",
      "19/19 [==============================] - 0s 9ms/step - loss: 0.0010 - val_loss: 8.9232e-04\n",
      "Epoch 24/50\n",
      "19/19 [==============================] - 0s 11ms/step - loss: 9.2982e-04 - val_loss: 8.2335e-04\n",
      "Epoch 25/50\n",
      "19/19 [==============================] - 0s 11ms/step - loss: 8.5982e-04 - val_loss: 7.6301e-04\n",
      "Epoch 26/50\n",
      "19/19 [==============================] - 0s 10ms/step - loss: 7.9801e-04 - val_loss: 7.0843e-04\n",
      "Epoch 27/50\n",
      "19/19 [==============================] - 0s 9ms/step - loss: 7.4194e-04 - val_loss: 6.5761e-04\n",
      "Epoch 28/50\n",
      "19/19 [==============================] - 0s 11ms/step - loss: 6.8883e-04 - val_loss: 6.1079e-04\n",
      "Epoch 29/50\n",
      "19/19 [==============================] - 0s 9ms/step - loss: 6.3954e-04 - val_loss: 5.6655e-04\n",
      "Epoch 30/50\n",
      "19/19 [==============================] - 0s 9ms/step - loss: 5.9318e-04 - val_loss: 5.2526e-04\n",
      "Epoch 31/50\n",
      "19/19 [==============================] - 0s 9ms/step - loss: 5.4988e-04 - val_loss: 4.8628e-04\n",
      "Epoch 32/50\n",
      "19/19 [==============================] - 0s 8ms/step - loss: 5.0938e-04 - val_loss: 4.5019e-04\n",
      "Epoch 33/50\n",
      "19/19 [==============================] - 0s 10ms/step - loss: 4.7163e-04 - val_loss: 4.1698e-04\n",
      "Epoch 34/50\n",
      "19/19 [==============================] - 0s 9ms/step - loss: 4.3703e-04 - val_loss: 3.8667e-04\n",
      "Epoch 35/50\n",
      "19/19 [==============================] - 0s 9ms/step - loss: 4.0551e-04 - val_loss: 3.5939e-04\n",
      "Epoch 36/50\n",
      "19/19 [==============================] - 0s 9ms/step - loss: 3.7731e-04 - val_loss: 3.3395e-04\n",
      "Epoch 37/50\n",
      "19/19 [==============================] - 0s 8ms/step - loss: 3.5112e-04 - val_loss: 3.1184e-04\n",
      "Epoch 38/50\n",
      "19/19 [==============================] - 0s 9ms/step - loss: 3.2826e-04 - val_loss: 2.9114e-04\n",
      "Epoch 39/50\n",
      "19/19 [==============================] - 0s 9ms/step - loss: 3.0699e-04 - val_loss: 2.7308e-04\n",
      "Epoch 40/50\n",
      "19/19 [==============================] - 0s 9ms/step - loss: 2.8806e-04 - val_loss: 2.5693e-04\n",
      "Epoch 41/50\n",
      "19/19 [==============================] - 0s 9ms/step - loss: 2.7124e-04 - val_loss: 2.4188e-04\n",
      "Epoch 42/50\n",
      "19/19 [==============================] - 0s 9ms/step - loss: 2.5562e-04 - val_loss: 2.2870e-04\n",
      "Epoch 43/50\n",
      "19/19 [==============================] - 0s 9ms/step - loss: 2.4181e-04 - val_loss: 2.1644e-04\n",
      "Epoch 44/50\n",
      "19/19 [==============================] - 0s 8ms/step - loss: 2.2912e-04 - val_loss: 2.0540e-04\n",
      "Epoch 45/50\n",
      "19/19 [==============================] - 0s 10ms/step - loss: 2.1762e-04 - val_loss: 1.9560e-04\n",
      "Epoch 46/50\n",
      "19/19 [==============================] - 0s 8ms/step - loss: 2.0732e-04 - val_loss: 1.8622e-04\n",
      "Epoch 47/50\n",
      "19/19 [==============================] - 0s 9ms/step - loss: 1.9760e-04 - val_loss: 1.7800e-04\n",
      "Epoch 48/50\n",
      "19/19 [==============================] - 0s 9ms/step - loss: 1.8888e-04 - val_loss: 1.7041e-04\n",
      "Epoch 49/50\n",
      "19/19 [==============================] - 0s 9ms/step - loss: 1.8095e-04 - val_loss: 1.6318e-04\n",
      "Epoch 50/50\n",
      "19/19 [==============================] - 0s 8ms/step - loss: 1.7329e-04 - val_loss: 1.5641e-04\n"
     ]
    },
    {
     "data": {
      "text/plain": "<keras.src.callbacks.History at 0x2c81438d0>"
     },
     "execution_count": 15,
     "metadata": {},
     "output_type": "execute_result"
    }
   ],
   "source": [
    "autoencoder.fit(X_train, X_train, epochs=50, batch_size=256, shuffle=True, validation_data=(X_test, X_test))"
   ]
  },
  {
   "cell_type": "code",
   "execution_count": 16,
   "id": "f12b268bb5c35346",
   "metadata": {
    "collapsed": false,
    "ExecuteTime": {
     "end_time": "2023-11-24T12:36:44.921742Z",
     "start_time": "2023-11-24T12:36:44.787335Z"
    }
   },
   "outputs": [
    {
     "name": "stdout",
     "output_type": "stream",
     "text": [
      "37/37 [==============================] - 0s 1ms/step\n"
     ]
    }
   ],
   "source": [
    "decoded_imgs = autoencoder.predict(X_test)"
   ]
  },
  {
   "cell_type": "code",
   "execution_count": 20,
   "id": "1fb4dc591fea9f3",
   "metadata": {
    "collapsed": false,
    "ExecuteTime": {
     "end_time": "2023-11-24T12:46:45.054346Z",
     "start_time": "2023-11-24T12:46:44.973324Z"
    }
   },
   "outputs": [],
   "source": [
    "mse = np.mean(np.power(Reshape((60, 60, 1))(X_test) - decoded_imgs, 2), axis=(1, 2, 3))\n",
    "threshold = 0.002"
   ]
  },
  {
   "cell_type": "code",
   "execution_count": 21,
   "id": "54d6aefcfe92b572",
   "metadata": {
    "collapsed": false,
    "ExecuteTime": {
     "end_time": "2023-11-24T12:46:45.465185Z",
     "start_time": "2023-11-24T12:46:45.262771Z"
    }
   },
   "outputs": [
    {
     "data": {
      "text/plain": "<matplotlib.image.AxesImage at 0x2cd057490>"
     },
     "execution_count": 21,
     "metadata": {},
     "output_type": "execute_result"
    },
    {
     "data": {
      "text/plain": "<Figure size 1200x400 with 6 Axes>",
      "image/png": "[encoded data removed]"
     },
     "metadata": {},
     "output_type": "display_data"
    }
   ],
   "source": [
    "figX, axsX = plt.subplots(2, 3, figsize=(12, 4))\n",
    "\n",
    "axsX[0][0].imshow(X_test[100].reshape(60, 60))\n",
    "axsX[0][1].imshow(X_test[200].reshape(60, 60))\n",
    "axsX[0][2].imshow(X_test[500].reshape(60, 60))\n",
    "axsX[1][0].imshow(decoded_imgs[100].reshape(60, 60))\n",
    "axsX[1][1].imshow(decoded_imgs[200].reshape(60, 60))\n",
    "axsX[1][2].imshow(decoded_imgs[500].reshape(60, 60))"
   ]
  },
  {
   "cell_type": "code",
   "execution_count": 22,
   "id": "867facb5f030160e",
   "metadata": {
    "collapsed": false,
    "ExecuteTime": {
     "end_time": "2023-11-24T12:46:46.265455Z",
     "start_time": "2023-11-24T12:46:46.190083Z"
    }
   },
   "outputs": [
    {
     "data": {
      "text/plain": "<Figure size 640x480 with 1 Axes>",
      "image/png": "[encoded data removed]"
     },
     "metadata": {},
     "output_type": "display_data"
    }
   ],
   "source": [
    "plt.figure()\n",
    "plt.plot(mse)\n",
    "plt.title('Reconstruction Errors')\n",
    "plt.xlabel('Image Index')\n",
    "plt.ylabel('Mean Squared Error')\n",
    "plt.axhline(y=threshold, color='r', linestyle='--', label='Threshold')\n",
    "plt.legend()\n",
    "plt.show()"
   ]
  },
  {
   "cell_type": "code",
   "execution_count": null,
   "id": "890ba12d325ee54c",
   "metadata": {
    "collapsed": false
   },
   "outputs": [],
   "source": []
  }
 ],
 "metadata": {
  "kernelspec": {
   "display_name": "Python 3",
   "language": "python",
   "name": "python3"
  },
  "language_info": {
   "codemirror_mode": {
    "name": "ipython",
    "version": 3
   },
   "file_extension": ".py",
   "mimetype": "text/x-python",
   "name": "python",
   "nbconvert_exporter": "python",
   "pygments_lexer": "ipython3",
   "version": "3.11.3"
  }
 },
 "nbformat": 4,
 "nbformat_minor": 5
}
