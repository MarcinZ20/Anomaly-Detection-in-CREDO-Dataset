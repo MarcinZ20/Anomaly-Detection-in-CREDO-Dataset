{
 "cells": [
  {
   "cell_type": "code",
   "execution_count": 5,
   "metadata": {},
   "outputs": [],
   "source": [
    "import os\n",
    "import sklearn\n",
    "from skimage import io\n",
    "import numpy as np \n",
    "import matplotlib.pyplot as plt\n",
    "from sklearn.decomposition import PCA\n",
    "import cv2\n",
    "import sys\n",
    "sys.path.append('../')\n",
    "from src.data.preprocessing import *\n",
    "import torch as tc\n",
    "from src.dataset.dataloader import *"
   ]
  },
  {
   "cell_type": "code",
   "execution_count": 6,
   "metadata": {},
   "outputs": [],
   "source": [
    "import importlib\n",
    "import sys\n",
    "importlib.reload(sys.modules['src.data.preprocessing'])\n",
    "importlib.reload(sys.modules['src.dataset.dataloader'])\n",
    "from src.data.preprocessing import *\n",
    "from src.dataset.dataloader import *"
   ]
  },
  {
   "cell_type": "code",
   "execution_count": 7,
   "metadata": {},
   "outputs": [],
   "source": [
    "lista = ['../data/raw/0/26849989.png', \n",
    "         '../data/raw/1/26810574.png', \n",
    "         '../data/raw/1/26895219.png', \n",
    "         '../data/raw/1/26915470.png', \n",
    "         '../data/raw/10/28386822.png', \n",
    "         '../data/raw/10/28438635.png', \n",
    "         '../data/raw/10/28500012.png', \n",
    "         '../data/raw/11/28555757.png',\n",
    "         '../data/raw/11/28602546.png',\n",
    "            '../data/raw/13/28910256.png',\n",
    "            '../data/raw/14/29075601.png',\n",
    "            '../data/raw/14/29128601.png',\n",
    "            '../data/raw/14/29170549.png',\n",
    "            '../data/raw/15/29236231.png',\n",
    "            '../data/raw/15/29288692.png',\n",
    "            '../data/raw/15/29312375.png',\n",
    "            '../data/raw/16/29410456.png',\n",
    "            '../data/raw/17/29539556.png',\n",
    "            '../data/raw/17/29676218.png',\n",
    "            '../data/raw/17/29677972.png',\n",
    "            '../data/raw/17/29711545.png',\n",
    "            '../data/raw/17/29719385.png']\n",
    "\n"
   ]
  },
  {
   "cell_type": "code",
   "execution_count": 11,
   "metadata": {},
   "outputs": [
    {
     "name": "stdout",
     "output_type": "stream",
     "text": [
      "True\n",
      "True\n",
      "True\n",
      "True\n",
      "True\n",
      "True\n",
      "True\n",
      "True\n",
      "True\n",
      "True\n",
      "True\n",
      "True\n",
      "True\n",
      "True\n",
      "True\n",
      "True\n",
      "True\n",
      "True\n",
      "True\n",
      "True\n",
      "True\n",
      "True\n"
     ]
    },
    {
     "data": {
      "image/png": "[encoded data removed]",
      "text/plain": [
       "<Figure size 640x480 with 1 Axes>"
      ]
     },
     "metadata": {},
     "output_type": "display_data"
    }
   ],
   "source": [
    "for file in lista:\n",
    "    #print(file)\n",
    "    image = io.imread(file)\n",
    "    image = cv2.cvtColor(image, cv2.COLOR_RGB2GRAY)\n",
    "    plt.imshow(image)\n",
    "    image = preprop(image)\n",
    "    print(np.all(np.invert(np.isnan(image))))\n",
    "    #print(np.all())\n",
    "    #print(image[28:33, 28:33])\n",
    "    "
   ]
  },
  {
   "cell_type": "code",
   "execution_count": null,
   "metadata": {},
   "outputs": [],
   "source": []
  }
 ],
 "metadata": {
  "kernelspec": {
   "display_name": "Python 3",
   "language": "python",
   "name": "python3"
  },
  "language_info": {
   "codemirror_mode": {
    "name": "ipython",
    "version": 3
   },
   "file_extension": ".py",
   "mimetype": "text/x-python",
   "name": "python",
   "nbconvert_exporter": "python",
   "pygments_lexer": "ipython3",
   "version": "3.10.11"
  }
 },
 "nbformat": 4,
 "nbformat_minor": 2
}
