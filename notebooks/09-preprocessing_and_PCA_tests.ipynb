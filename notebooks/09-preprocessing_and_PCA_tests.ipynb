{
 "cells": [
  {
   "cell_type": "code",
   "execution_count": 1,
   "metadata": {},
   "outputs": [],
   "source": [
    "from sklearn.decomposition import IncrementalPCA\n",
    "import os\n",
    "import sklearn\n",
    "from skimage import io\n",
    "import numpy as np \n",
    "import matplotlib.pyplot as plt\n",
    "import cv2\n",
    "import sys\n",
    "sys.path.append('../')\n",
    "import torch as tc\n",
    "from src.dataset.dataloader import *\n"
   ]
  },
  {
   "cell_type": "code",
   "execution_count": 2,
   "metadata": {},
   "outputs": [],
   "source": [
    "import importlib\n",
    "importlib.reload(sys.modules['src.dataset.dataloader'])\n",
    "from src.dataset.dataloader import *"
   ]
  },
  {
   "cell_type": "code",
   "execution_count": 3,
   "metadata": {},
   "outputs": [],
   "source": [
    "img_dir = \"../data/raw\"\n",
    "batch_size = 10000\n",
    "size = 425000\n",
    "dataset = CREDO_Dataset(img_dir, True)\n",
    "dataloader = tc.utils.data.DataLoader(dataset, batch_size = batch_size)"
   ]
  },
  {
   "cell_type": "code",
   "execution_count": 4,
   "metadata": {},
   "outputs": [
    {
     "name": "stdout",
     "output_type": "stream",
     "text": [
      "Czas reshape: 0.012493133544921875\n",
      "Czas PCA: 26.300886154174805\n",
      "DONE: 140000/425000\n",
      "Czas reshape: 0.018510818481445312\n",
      "Czas PCA: 26.82866334915161\n",
      "DONE: 150000/425000\n",
      "Czas reshape: 0.009003639221191406\n",
      "Czas PCA: 27.42433786392212\n",
      "DONE: 160000/425000\n",
      "Czas reshape: 0.016002655029296875\n",
      "Czas PCA: 27.464696645736694\n",
      "DONE: 170000/425000\n",
      "Czas reshape: 0.011997699737548828\n",
      "Czas PCA: 28.820557594299316\n",
      "DONE: 180000/425000\n",
      "Czas reshape: 0.009000301361083984\n",
      "Czas PCA: 26.760088682174683\n",
      "DONE: 190000/425000\n",
      "Czas reshape: 0.008994102478027344\n",
      "Czas PCA: 27.76287579536438\n",
      "DONE: 200000/425000\n",
      "Czas reshape: 0.008999824523925781\n",
      "Czas PCA: 28.0314884185791\n",
      "DONE: 210000/425000\n",
      "Czas reshape: 0.013997554779052734\n",
      "Czas PCA: 27.993238925933838\n",
      "DONE: 220000/425000\n",
      "Czas reshape: 0.010004281997680664\n",
      "Czas PCA: 28.37176513671875\n",
      "DONE: 230000/425000\n",
      "Czas reshape: 0.009011983871459961\n",
      "Czas PCA: 27.37360668182373\n",
      "DONE: 240000/425000\n",
      "Czas reshape: 0.009000301361083984\n",
      "Czas PCA: 27.748070001602173\n",
      "DONE: 250000/425000\n",
      "Czas reshape: 0.009006500244140625\n",
      "Czas PCA: 28.75774097442627\n",
      "DONE: 260000/425000\n",
      "Czas reshape: 0.020813703536987305\n",
      "Czas PCA: 40.7796676158905\n",
      "DONE: 270000/425000\n",
      "Czas reshape: 0.0160062313079834\n",
      "Czas PCA: 40.31624960899353\n",
      "DONE: 280000/425000\n",
      "Czas reshape: 0.01600170135498047\n",
      "Czas PCA: 40.577855348587036\n",
      "DONE: 290000/425000\n",
      "Czas reshape: 0.019992828369140625\n",
      "Czas PCA: 39.803017377853394\n",
      "DONE: 300000/425000\n",
      "Czas reshape: 0.01997995376586914\n",
      "Czas PCA: 39.761305809020996\n",
      "DONE: 310000/425000\n",
      "Czas reshape: 0.019988536834716797\n",
      "Czas PCA: 40.24933576583862\n",
      "DONE: 320000/425000\n",
      "Czas reshape: 0.01602458953857422\n",
      "Czas PCA: 40.32124733924866\n",
      "DONE: 330000/425000\n",
      "Czas reshape: 0.019989728927612305\n",
      "Czas PCA: 40.624449491500854\n",
      "DONE: 340000/425000\n",
      "Czas reshape: 0.02399301528930664\n",
      "Czas PCA: 40.93982982635498\n",
      "DONE: 350000/425000\n",
      "Czas reshape: 0.02003002166748047\n",
      "Czas PCA: 39.946150064468384\n",
      "DONE: 360000/425000\n",
      "Czas reshape: 0.02000713348388672\n",
      "Czas PCA: 40.640262603759766\n",
      "DONE: 370000/425000\n",
      "Czas reshape: 0.020008325576782227\n",
      "Czas PCA: 40.031580686569214\n",
      "DONE: 380000/425000\n",
      "Czas reshape: 0.020003795623779297\n",
      "Czas PCA: 40.14385509490967\n",
      "DONE: 390000/425000\n",
      "Czas reshape: 0.019989967346191406\n",
      "Czas PCA: 40.35928797721863\n",
      "DONE: 400000/425000\n",
      "Czas reshape: 0.0160064697265625\n",
      "Czas PCA: 39.980639696121216\n",
      "DONE: 410000/425000\n",
      "Czas reshape: 0.02000284194946289\n",
      "Czas PCA: 54.8700270652771\n",
      "DONE: 420000/425000\n",
      "Czas reshape: 0.019977569580078125\n",
      "Czas PCA: 49.21627688407898\n",
      "DONE: 254345/425000\n"
     ]
    }
   ],
   "source": [
    "import time\n",
    "import pickle as pkl\n",
    "dimensions = 30\n",
    "#sklearn_pca = IncrementalPCA(n_components=dimensions)\n",
    "sklearn_pca = pkl.load(open(\"../models/model_inc_pca.pkl\",'rb'))\n",
    "for index, data in enumerate(dataloader):\n",
    "    if index > 12:\n",
    "        time1 = time.time()\n",
    "\n",
    "        x, y, z = data[0].shape\n",
    "        data_chunk = data[0].reshape(x, y*z)\n",
    "\n",
    "        time2 = time.time()\n",
    "\n",
    "        print(f\"Czas reshape: {time2-time1}\")\n",
    "        sklearn_pca.partial_fit(data_chunk)\n",
    "\n",
    "        time3 = time.time()\n",
    "        print(f\"Czas PCA: {time3-time2}\")\n",
    "\n",
    "        pkl.dump(sklearn_pca, open(\"../models/model_inc_pca.pkl\",\"wb\"))\n",
    "\n",
    "        print(f\"DONE: {(index+1)*x}/{size}\")\n",
    "\n",
    "        #Estimated waiting time: ~40 minutes\n"
   ]
  },
  {
   "cell_type": "code",
   "execution_count": 6,
   "metadata": {},
   "outputs": [
    {
     "name": "stdout",
     "output_type": "stream",
     "text": [
      "0.879322263561803\n"
     ]
    }
   ],
   "source": [
    "print(sum(sklearn_pca.explained_variance_ratio_[:30]))\n",
    "\n",
    "#8 cech wyjaśnia już aż 96,08% !"
   ]
  }
 ],
 "metadata": {
  "kernelspec": {
   "display_name": "Python 3",
   "language": "python",
   "name": "python3"
  },
  "language_info": {
   "codemirror_mode": {
    "name": "ipython",
    "version": 3
   },
   "file_extension": ".py",
   "mimetype": "text/x-python",
   "name": "python",
   "nbconvert_exporter": "python",
   "pygments_lexer": "ipython3",
   "version": "3.10.11"
  }
 },
 "nbformat": 4,
 "nbformat_minor": 2
}
