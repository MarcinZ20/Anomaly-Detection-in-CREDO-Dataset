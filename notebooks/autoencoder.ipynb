{
 "cells": [
  {
   "cell_type": "markdown",
   "metadata": {},
   "source": [
    "# AUTOENCODER ANALYSIS"
   ]
  },
  {
   "cell_type": "markdown",
   "metadata": {},
   "source": [
    "This notebook contains exploratory analysis of the images from **CREDO** dataset. We use Autoencoders to find and detect anomalies in the given dataset. \n",
    "\n",
    "#### Dataset\n",
    "Dataset contains thousands of images of size **(60x60)** in **.png** format.\n",
    "\n"
   ]
  },
  {
   "cell_type": "markdown",
   "metadata": {},
   "source": [
    "<hr>"
   ]
  },
  {
   "cell_type": "code",
   "execution_count": 1,
   "metadata": {},
   "outputs": [],
   "source": [
    "import numpy as np\n",
    "import random\n",
    "import torch\n",
    "import torch.nn as nn\n",
    "import torch.optim as optim\n",
    "from torch.utils.data import DataLoader, Dataset, random_split\n",
    "from torchvision.transforms import v2\n",
    "from torchvision.io import read_image\n",
    "from torchvision.utils import make_grid\n",
    "import os\n",
    "import pandas as pd\n",
    "import matplotlib.pyplot as plt\n",
    "from tqdm import tqdm"
   ]
  },
  {
   "cell_type": "markdown",
   "metadata": {},
   "source": [
    "### Data preparation"
   ]
  },
  {
   "cell_type": "markdown",
   "metadata": {},
   "source": [
    "First step is to create a dataset, that will load images and feed them to the model. Since there are a lot of images here, we don't want to load them all at once - instead we use **batches**. "
   ]
  },
  {
   "cell_type": "code",
   "execution_count": 2,
   "metadata": {},
   "outputs": [],
   "source": [
    "class ImgDataset(Dataset):\n",
    "    def __init__(self, root_dir, transform=None):\n",
    "        self.root_dir = root_dir\n",
    "        self.transform = transform\n",
    "        self.image_files = [file for file in os.listdir(root_dir) if file.endswith(\".png\")]\n",
    "\n",
    "    def __getitem__(self, index):\n",
    "        img_path = os.path.join(self.root_dir, self.image_files[index])\n",
    "        image = read_image(img_path)\n",
    "\n",
    "        if self.transform:\n",
    "            image = self.transform(image)\n",
    "\n",
    "        return image\n",
    "\n",
    "    def __len__(self):\n",
    "        return len(self.image_files)\n"
   ]
  },
  {
   "cell_type": "markdown",
   "metadata": {},
   "source": [
    "Then we define some key properties like:\n",
    "- **transform** function - converts and normalizes image\n",
    "- **dataset** - creates dataset using class above"
   ]
  },
  {
   "cell_type": "code",
   "execution_count": 3,
   "metadata": {},
   "outputs": [],
   "source": [
    "transform = v2.Compose([v2.ToImage(),\n",
    "                        v2.ToDtype(torch.float32),\n",
    "                        v2.Normalize(mean=[0.5], std=[0.5])\n",
    "                        ])\n",
    "dataset = ImgDataset( \n",
    "                     root_dir='../data/processed', \n",
    "                     transform=transform)"
   ]
  },
  {
   "cell_type": "code",
   "execution_count": 4,
   "metadata": {},
   "outputs": [
    {
     "name": "stdout",
     "output_type": "stream",
     "text": [
      "Max: 61.0\n",
      "Min: -1.0\n"
     ]
    }
   ],
   "source": [
    "print(f'Max: {dataset[30].max()}\\nMin: {dataset[30].min()}')"
   ]
  },
  {
   "cell_type": "markdown",
   "metadata": {},
   "source": [
    "Last step is to divide the data into training & test sets"
   ]
  },
  {
   "cell_type": "code",
   "execution_count": 5,
   "metadata": {},
   "outputs": [],
   "source": [
    "train_size = int(0.9 * len(dataset))\n",
    "test_size = len(dataset) - train_size\n",
    "\n",
    "train_data, test_data = random_split(dataset, [train_size, test_size], \n",
    "                                     generator=torch.Generator().manual_seed(42))\n"
   ]
  },
  {
   "cell_type": "code",
   "execution_count": 6,
   "metadata": {},
   "outputs": [],
   "source": [
    "train_loader = DataLoader(train_data, batch_size=64, shuffle=True)\n",
    "test_loader = DataLoader(test_data, batch_size=64, shuffle=True)"
   ]
  },
  {
   "cell_type": "markdown",
   "metadata": {},
   "source": [
    "### Preprocessing summary statistics"
   ]
  },
  {
   "cell_type": "code",
   "execution_count": 7,
   "metadata": {},
   "outputs": [
    {
     "name": "stdout",
     "output_type": "stream",
     "text": [
      "Number of Images: 110000\n",
      "Train Size: 99000\n",
      "Test Size: 11000\n",
      "Image Format: .png\n",
      "Image Size: (60, 60)\n",
      "Image Dimensions: torch.Size([1, 60, 60])\n",
      "Image Max Value: 125.0\n",
      "Image Min Value: -1.0\n"
     ]
    }
   ],
   "source": [
    "# Calculate the number of images\n",
    "num_images = len(dataset)\n",
    "\n",
    "# Calculate the train and test sizes\n",
    "train_size = len(train_data)\n",
    "test_size = len(test_data)\n",
    "\n",
    "# Calculate the image max and min values\n",
    "image_max = dataset[0].max()\n",
    "image_min = dataset[0].min()\n",
    "\n",
    "# Get the image format and dimensions\n",
    "image_format = '.png'\n",
    "image_size = dataset[0].view(60, 60).numpy().shape\n",
    "image_dimensions = dataset[0].shape\n",
    "\n",
    "# Display the statistics\n",
    "print(f\"Number of Images: {num_images}\")\n",
    "print(f\"Train Size: {train_size}\")\n",
    "print(f\"Test Size: {test_size}\")\n",
    "print(f\"Image Format: {image_format}\")\n",
    "print(f\"Image Size: {image_size}\")\n",
    "print(f\"Image Dimensions: {image_dimensions}\")\n",
    "print(f\"Image Max Value: {image_max}\")\n",
    "print(f\"Image Min Value: {image_min}\")\n"
   ]
  },
  {
   "cell_type": "markdown",
   "metadata": {},
   "source": [
    "Let's visualize some of the data we're dealing with"
   ]
  },
  {
   "cell_type": "code",
   "execution_count": 8,
   "metadata": {},
   "outputs": [
    {
     "data": {
      "image/png": "[encoded data removed]",
      "text/plain": [
       "<Figure size 1000x800 with 6 Axes>"
      ]
     },
     "metadata": {},
     "output_type": "display_data"
    }
   ],
   "source": [
    "fig, axes = plt.subplots(2, 3, figsize=(10, 8))\n",
    "\n",
    "for i, ax in enumerate(axes.flatten()):\n",
    "    random_index = random.randint(0, len(train_loader.dataset))\n",
    "    image = train_loader.dataset[random_index].view(60, 60).numpy()\n",
    "    ax.imshow(image, cmap='gray')\n",
    "    ax.set_title(f'Image {random_index}.png')\n",
    "    ax.axis('off')\n",
    "\n",
    "plt.tight_layout()\n",
    "plt.show()\n"
   ]
  },
  {
   "cell_type": "code",
   "execution_count": 9,
   "metadata": {},
   "outputs": [
    {
     "name": "stdout",
     "output_type": "stream",
     "text": [
      "Running on the CPU\n"
     ]
    }
   ],
   "source": [
    "#  configuring device\n",
    "if torch.cuda.is_available():\n",
    "  device = torch.device('cuda:0')\n",
    "  print('Running on the GPU')\n",
    "else:\n",
    "  device = torch.device('cpu')\n",
    "  print('Running on the CPU')"
   ]
  },
  {
   "cell_type": "markdown",
   "metadata": {},
   "source": [
    "## Model with linear layers"
   ]
  },
  {
   "cell_type": "markdown",
   "metadata": {},
   "source": [
    "Now it's time to create the model which we will train to detect anomalies.\n",
    "Our sequential models consists of the following:\n",
    "1. Encoder - reduces dimensionality\n",
    "2. Decoder - expands dimensionality\n",
    "\n",
    "#### Encoder architecture\n",
    "- 5 linear layers (each one gradually reduces dimensionality until reaching size of 4)\n",
    "- 4 LeakyReLU activation functions. The follow linear layers and introduce non-linearity \n",
    "\n",
    "#### Decoder architecture\n",
    "- 5 linear layers (each one gradually expands dimensionality until reaching size of 4)\n",
    "- 4 LeakyReLU activation functions. The follow linear layers and introduce non-linearity \n",
    "- 1 Sigmoid activation function (Sigmoid), because images are normalized to [0, 1]\n"
   ]
  },
  {
   "cell_type": "code",
   "execution_count": null,
   "metadata": {},
   "outputs": [],
   "source": [
    "class Autoencoder(nn.Module):\n",
    "    \n",
    "    def __init__(self):\n",
    "\n",
    "        super(Autoencoder, self).__init__()\n",
    "\n",
    "        self.encoder = nn.Sequential(\n",
    "            nn.Linear(60 * 60, 512),\n",
    "            nn.LeakyReLU(True),\n",
    "            nn.Linear(512, 256),\n",
    "            nn.LeakyReLU(True), \n",
    "            nn.Linear(256, 128),\n",
    "            nn.LeakyReLU(True),\n",
    "            nn.Linear(128, 64),\n",
    "            nn.LeakyReLU(True),\n",
    "            nn.Linear(64, 32),\n",
    "            nn.LeakyReLU(True),\n",
    "            nn.Linear(32, 16)\n",
    "        ) \n",
    "        \n",
    "        self.decoder = nn.Sequential(\n",
    "            nn.Linear(16, 32),\n",
    "            nn.LeakyReLU(True),\n",
    "            nn.Linear(32, 64),\n",
    "            nn.LeakyReLU(True),\n",
    "            nn.Linear(64, 128),\n",
    "            nn.LeakyReLU(True), \n",
    "            nn.Linear(128, 256),\n",
    "            nn.LeakyReLU(True),\n",
    "            nn.Linear(256, 512),\n",
    "            nn.LeakyReLU(True),\n",
    "            nn.Linear(512, 60 * 60),\n",
    "            nn.Sigmoid()\n",
    "        )\n",
    "\n",
    "    def forward(self, x):\n",
    "        encoded = self.encoder(x)\n",
    "        decoded = self.decoder(encoded)\n",
    "\n",
    "        return decoded"
   ]
  },
  {
   "cell_type": "code",
   "execution_count": null,
   "metadata": {},
   "outputs": [],
   "source": [
    "model_lin = Autoencoder()"
   ]
  },
  {
   "cell_type": "markdown",
   "metadata": {},
   "source": [
    "## Model with Convolutional layers\n",
    "As for the second model, we propose the same architecture as the first one, but instead of using linear layers, we swap them out with Convolutional ones.\n",
    "\n",
    "Since we're using basically the same architecture, we will have a clear understanding of the differences as well as the similarities of both models.\n",
    "\n",
    "It will also make the task of comparing them much easier and fair"
   ]
  },
  {
   "cell_type": "code",
   "execution_count": null,
   "metadata": {},
   "outputs": [],
   "source": [
    "class AutoencoderConvolutional(nn.Module):\n",
    "\n",
    "    def __init__(self) -> None:\n",
    "        \n",
    "        super(AutoencoderConvolutional, self).__init__()\n",
    "\n",
    "        self.encoder = nn.Sequential(\n",
    "            nn.Conv2d(1, 16, kernel_size=3, stride=2),  # N, 16, 30, 30\n",
    "            nn.LeakyReLU(),\n",
    "            nn.Conv2d(16, 32, kernel_size=3, stride=2),  # N, 32, 15, 15\n",
    "            nn.LeakyReLU(),\n",
    "            nn.Conv2d(32, 64, kernel_size=3, stride=2),  # N, 64, 8, 8\n",
    "            nn.LeakyReLU(),\n",
    "            nn.Conv2d(64, 128, kernel_size=3, stride=2),  # N, 128, 4, 4\n",
    "        )\n",
    "\n",
    "        self.decoder = nn.Sequential(\n",
    "            nn.ConvTranspose2d(128, 64, kernel_size=4, stride=2),  # N, 64, 8, 8\n",
    "            nn.LeakyReLU(),\n",
    "            nn.ConvTranspose2d(64, 32, kernel_size=4, stride=2),  # N, 32, 16, 16\n",
    "            nn.LeakyReLU(),\n",
    "            nn.ConvTranspose2d(32, 16, kernel_size=4, stride=2),  # N, 16, 32, 32\n",
    "            nn.LeakyReLU(),\n",
    "            nn.ConvTranspose2d(16, 1, kernel_size=4, stride=2),  # N, 1, 64, 64\n",
    "            nn.Sigmoid()\n",
    "        )\n",
    "\n",
    "    def forward(self, x):\n",
    "        encoded = self.encoder(x)\n",
    "        decoded = self.decoder(encoded)\n",
    "\n",
    "        return decoded"
   ]
  },
  {
   "cell_type": "code",
   "execution_count": null,
   "metadata": {},
   "outputs": [],
   "source": [
    "model_conv = AutoencoderConvolutional()"
   ]
  },
  {
   "cell_type": "markdown",
   "metadata": {},
   "source": [
    "Below we define some training parameters:\n",
    "- Number of epochs\n",
    "- Criterion\n",
    "- Learning rate\n",
    "- Weight decay\n",
    "- Optimizer"
   ]
  },
  {
   "cell_type": "code",
   "execution_count": null,
   "metadata": {},
   "outputs": [],
   "source": [
    "EPOCHS = 15\n",
    "CRITERION = nn.MSELoss()\n",
    "LEARNING_RATE = 1e-3\n",
    "# Optimizers\n",
    "OPTIMIZER_LIN = optim.Adam(model_lin.parameters(), lr=LEARNING_RATE)\n",
    "OPTIMIZER_CONV = optim.Adam(model_conv.parameters(), lr=LEARNING_RATE)\n"
   ]
  },
  {
   "cell_type": "markdown",
   "metadata": {},
   "source": [
    "## Model Training"
   ]
  },
  {
   "cell_type": "markdown",
   "metadata": {},
   "source": [
    "Now we train our model on the given data, with the use of parameters defined above"
   ]
  },
  {
   "cell_type": "code",
   "execution_count": null,
   "metadata": {},
   "outputs": [],
   "source": [
    "output_linear = []\n",
    "losses = []\n",
    "\n",
    "for e in range(EPOCHS):\n",
    "    for img in train_loader:\n",
    "        img = img.reshape(-1, 60 * 60)\n",
    "        recon = model_lin(img)\n",
    "        loss = CRITERION(recon, img)\n",
    "\n",
    "        OPTIMIZER_LIN.zero_grad()\n",
    "        loss.backward()\n",
    "        OPTIMIZER_LIN.step()\n",
    "        \n",
    "    losses.append(loss.item())  \n",
    "    print(f'Epoch: {e + 1}, Loss: {loss.item():.4f}')\n",
    "    output_linear.append((e, img, recon))"
   ]
  },
  {
   "cell_type": "code",
   "execution_count": null,
   "metadata": {},
   "outputs": [],
   "source": [
    "n = 6  # Number of images you want to display\n",
    "plt.figure(figsize=(20, 4))\n",
    "for i in range(n):\n",
    "\n",
    "    ax = plt.subplot(2, n, i + 1)\n",
    "    plt.imshow(img[i].reshape(60, 60), cmap='gray')\n",
    "    ax.get_xaxis().set_visible(False)\n",
    "    ax.get_yaxis().set_visible(False)\n",
    "\n",
    "    ax = plt.subplot(2, n, i + 1 + n)\n",
    "    plt.imshow(recon[i].detach().numpy().reshape(60, 60), cmap='gray')\n",
    "    ax.get_xaxis().set_visible(False)\n",
    "    ax.get_yaxis().set_visible(False)\n",
    "    \n",
    "plt.show()"
   ]
  },
  {
   "cell_type": "code",
   "execution_count": null,
   "metadata": {},
   "outputs": [],
   "source": [
    "# Calculate the reconstruction error for each image\n",
    "reconstruction_error = np.mean((np.power((recon.detach().numpy() - img.detach().numpy()), 2)), axis=1)"
   ]
  },
  {
   "cell_type": "code",
   "execution_count": null,
   "metadata": {},
   "outputs": [],
   "source": [
    "reconstruction_error_df = pd.DataFrame({'reconstruction_error': reconstruction_error,\n",
    "                                        'true_class': [0] * len(reconstruction_error)})"
   ]
  },
  {
   "cell_type": "code",
   "execution_count": null,
   "metadata": {},
   "outputs": [],
   "source": [
    "reconstruction_error_df"
   ]
  },
  {
   "cell_type": "code",
   "execution_count": null,
   "metadata": {},
   "outputs": [],
   "source": []
  },
  {
   "cell_type": "code",
   "execution_count": null,
   "metadata": {},
   "outputs": [],
   "source": [
    "plt.plot(range(1, EPOCHS + 1), losses[-1].detach().numpy(), marker='o')\n",
    "plt.title('Autoencoder Training Loss')\n",
    "plt.xlabel('Epoch')\n",
    "plt.ylabel('Loss')\n",
    "plt.show()"
   ]
  },
  {
   "cell_type": "code",
   "execution_count": null,
   "metadata": {},
   "outputs": [],
   "source": [
    "num_examples = 6\n",
    "fig, axes = plt.subplots(num_examples, 2, figsize=(16, 6 * num_examples))\n",
    "\n",
    "for i in range(num_examples):\n",
    "    axes[i, 0].imshow(img[i].view(60, 60).numpy(),\n",
    "                      cmap='gray', \n",
    "                      aspect=plt.gca().set_aspect('equal'))\n",
    "    axes[i, 0].set_title('Original')\n",
    "\n",
    "    axes[i, 1].imshow(recon[i].view(60, 60).detach().numpy(), \n",
    "                      cmap='gray', \n",
    "                      aspect=plt.gca().set_aspect('equal'))\n",
    "    axes[i, 1].set_title('Reconstructed')\n",
    "\n",
    "plt.show()"
   ]
  },
  {
   "cell_type": "code",
   "execution_count": null,
   "metadata": {},
   "outputs": [],
   "source": [
    "encoder_weights = model_lin.encoder[0].weight.data\n",
    "\n",
    "num_features_to_visualize = 16\n",
    "fig, axes = plt.subplots(4, 4, figsize=(16, 16))\n",
    "\n",
    "for i in range(num_features_to_visualize):\n",
    "    ax = axes[i // 4, i % 4]\n",
    "    feature = encoder_weights[i].view(60, 60).detach().numpy()\n",
    "    ax.imshow(feature, cmap='gray')\n",
    "    ax.set_title(f'Feature {i + 1}')\n",
    "\n",
    "plt.show()"
   ]
  },
  {
   "cell_type": "code",
   "execution_count": null,
   "metadata": {},
   "outputs": [],
   "source": [
    "# Calculate model accuracy\n",
    "accuracy = sum(reconstruction_error_df['true_class'] == 0) / len(reconstruction_error_df)"
   ]
  },
  {
   "cell_type": "code",
   "execution_count": null,
   "metadata": {},
   "outputs": [],
   "source": [
    "accuracy"
   ]
  },
  {
   "cell_type": "code",
   "execution_count": null,
   "metadata": {},
   "outputs": [],
   "source": [
    "threshold = 0.00085\n",
    "\n",
    "plt.plot(range(1, EPOCHS + 1), losses, marker='o')\n",
    "plt.axhline(y=threshold, color='r', linestyle='dashed')\n",
    "plt.title('Autoencoder Training Loss')\n",
    "plt.xlabel('Epoch')\n",
    "plt.ylabel('Loss')\n",
    "plt.show()"
   ]
  },
  {
   "cell_type": "code",
   "execution_count": null,
   "metadata": {},
   "outputs": [],
   "source": [
    "model_lin.eval()\n",
    "anomalies = []\n",
    "\n",
    "for img in test_loader:\n",
    "    img = img.reshape(-1, 60 * 60)\n",
    "    recon = model_lin(img)\n",
    "    loss = CRITERION(recon, img)\n",
    "\n",
    "    if loss.item() > threshold:\n",
    "        anomalies.append((img, recon, loss.item()))\n",
    "\n",
    "len(anomalies)"
   ]
  },
  {
   "cell_type": "code",
   "execution_count": null,
   "metadata": {},
   "outputs": [],
   "source": [
    "num_anomalies_to_visualize = min(len(anomalies), 3)\n",
    "fig, axes = plt.subplots(3, 2, figsize=(14, 7 * num_anomalies_to_visualize))\n",
    "\n",
    "for i in range(num_anomalies_to_visualize):\n",
    "    axes[i, 0].imshow(img[i].view(60, 60).numpy(), cmap='gray')\n",
    "    axes[i, 0].set_title('Original')\n",
    "\n",
    "    axes[i, 1].imshow(anomalies[0][0][i].view(60, 60).detach().numpy(), cmap='gray')\n",
    "    axes[i, 1].set_title(f'Reconstructed\\nLoss: {anomalies[i][2]:.4f}')\n",
    "\n",
    "plt.show()"
   ]
  },
  {
   "cell_type": "markdown",
   "metadata": {},
   "source": [
    "<hr>"
   ]
  },
  {
   "cell_type": "code",
   "execution_count": null,
   "metadata": {},
   "outputs": [],
   "source": []
  },
  {
   "cell_type": "code",
   "execution_count": null,
   "metadata": {},
   "outputs": [],
   "source": [
    "autoencoder = AutoencoderConvolutional()\n",
    "img = torch.randn(1, 1, 60, 60)\n",
    "conv1 = nn.Conv2d(1, 16, kernel_size=(3, 3), stride=(1, 1), padding=1)\n",
    "print(conv1(img).shape)\n",
    "conv2 = nn.Conv2d(16, 32, kernel_size=(3, 3), stride=(2, 2), padding=1)\n",
    "print(conv2(conv1(img)).shape)\n",
    "conv3 = nn.Conv2d(32, 64, kernel_size=(3, 3), stride=(2, 2), padding=1)\n",
    "print(conv3(conv2(conv1(img))).shape)\n",
    "conv4 = nn.Conv2d(64, 128, kernel_size=(3, 3), stride=(2, 2), padding=1)\n",
    "print(conv4(conv3(conv2(conv1(img)))).shape)\n",
    "conv5 = nn.Conv2d(128, 128, kernel_size=(3, 3), stride=(1, 1), padding=1)\n",
    "print(conv5(conv4(conv3(conv2(conv1(img))))).shape)\n"
   ]
  },
  {
   "cell_type": "code",
   "execution_count": null,
   "metadata": {},
   "outputs": [],
   "source": [
    "class AutoencoderConvolutional(nn.Module):\n",
    "    def __init__(self) -> None:\n",
    "        super(AutoencoderConvolutional, self).__init__()\n",
    "\n",
    "        self.encoder = nn.Sequential(\n",
    "            nn.Conv2d(1, 16, kernel_size=3, stride=1, padding=1),  # 1, 16, 60, 60\n",
    "            nn.LeakyReLU(0.1),\n",
    "            nn.Conv2d(16, 32, kernel_size=3, stride=2, padding=1),  # 1, 32, 30, 30\n",
    "            nn.LeakyReLU(0.1),\n",
    "            nn.Conv2d(32, 64, kernel_size=3, stride=2, padding=1),  # 1, 64, 15, 15\n",
    "            nn.LeakyReLU(0.1),\n",
    "            nn.Conv2d(64, 128, kernel_size=3, stride=2, padding=1),  # 1, 128, 8, 8\n",
    "            nn.LeakyReLU(0.1),\n",
    "            nn.Conv2d(128, 128, kernel_size=1, stride=1, padding=1),  # 1, 128, 8, 8\n",
    "        )\n",
    "\n",
    "        self.decoder = nn.Sequential(\n",
    "            nn.ConvTranspose2d(128, 128, kernel_size=3, stride=1, padding=1), # N, 128, 8, 8\n",
    "            nn.LeakyReLU(0.1),\n",
    "            nn.ConvTranspose2d(128, 64, kernel_size=3, stride=2, padding=1),  # N, 64, 16, 16\n",
    "            nn.LeakyReLU(0.1),\n",
    "            nn.ConvTranspose2d(64, 32, kernel_size=3, stride=2, padding=1),  # N, 32, 32, 32\n",
    "            nn.LeakyReLU(0.1),\n",
    "            nn.ConvTranspose2d(32, 16, kernel_size=3, stride=2, padding=1),  # N, 16, 64, 64\n",
    "            nn.LeakyReLU(0.1),\n",
    "            nn.ConvTranspose2d(16, 1, kernel_size=3, stride=1, padding=1),  # N, 1, 64, 64\n",
    "        )\n",
    "\n",
    "    def forward(self, x):\n",
    "        encoded = self.encoder(x)\n",
    "        decoded = self.decoder(encoded)\n",
    "\n",
    "        return decoded\n",
    "\n",
    "model_conv = AutoencoderConvolutional()\n"
   ]
  },
  {
   "cell_type": "code",
   "execution_count": null,
   "metadata": {},
   "outputs": [],
   "source": [
    "num_epochs = 10\n",
    "device = torch.device(\"cuda\" if torch.cuda.is_available() else \"cpu\")\n",
    "model_conv.to(device)\n",
    "\n",
    "for epoch in range(num_epochs):\n",
    "    for data in train_loader:\n",
    "        inputs = data[0].to(device)\n",
    "\n",
    "        # Forward pass\n",
    "        outputs = model_conv(inputs)\n",
    "        loss = CRITERION(outputs, inputs)\n",
    "\n",
    "        # Backward pass and optimization\n",
    "        OPTIMIZER_CONV.zero_grad()\n",
    "        loss.backward()\n",
    "        OPTIMIZER_CONV.step()"
   ]
  },
  {
   "cell_type": "code",
   "execution_count": null,
   "metadata": {},
   "outputs": [],
   "source": [
    "class Encoder(nn.Module):\n",
    "    def __init__(self, in_channels=1, out_channels=16, latent_dim=200, act_fn=nn.LeakyReLU()):\n",
    "        super().__init__()\n",
    "\n",
    "        self.net = nn.Sequential(\n",
    "            nn.Conv2d(in_channels, out_channels, 3, padding=1), # (32, 32)\n",
    "            act_fn,\n",
    "            nn.Conv2d(out_channels, out_channels, 3, padding=1), \n",
    "            act_fn,\n",
    "            nn.Conv2d(out_channels, 2*out_channels, 3, padding=1, stride=2), # (16, 16)\n",
    "            act_fn,\n",
    "            nn.Conv2d(2*out_channels, 2*out_channels, 3, padding=1),\n",
    "            act_fn,\n",
    "            nn.Conv2d(2*out_channels, 4*out_channels, 3, padding=1, stride=2), # (8, 8)\n",
    "            act_fn,\n",
    "            nn.Conv2d(4*out_channels, 4*out_channels, 3, padding=1),\n",
    "            act_fn,\n",
    "            nn.Flatten(),\n",
    "            nn.Linear(4*out_channels*8*8, latent_dim),\n",
    "            act_fn\n",
    "        )\n",
    "    \n",
    "    def forward(self, x):\n",
    "        x = x.view(-1, 3, 60, 60)\n",
    "        output = self.net(x)\n",
    "        return output"
   ]
  },
  {
   "cell_type": "code",
   "execution_count": null,
   "metadata": {},
   "outputs": [],
   "source": [
    "class Decoder(nn.Module):\n",
    "  def __init__(self, in_channels=1, out_channels=16, latent_dim=200, act_fn=nn.LeakyReLU()):\n",
    "    super().__init__()\n",
    "\n",
    "    self.out_channels = out_channels\n",
    "\n",
    "    self.linear = nn.Sequential(\n",
    "        nn.Linear(latent_dim, 4*out_channels*8*8),\n",
    "        act_fn\n",
    "    )\n",
    "\n",
    "    self.conv = nn.Sequential(\n",
    "        nn.ConvTranspose2d(4*out_channels, 4*out_channels, 3, padding=1), # (8, 8)\n",
    "        act_fn,\n",
    "        nn.ConvTranspose2d(4*out_channels, 2*out_channels, 3, padding=1, \n",
    "                           stride=2, output_padding=1), # (16, 16)\n",
    "        act_fn,\n",
    "        nn.ConvTranspose2d(2*out_channels, 2*out_channels, 3, padding=1),\n",
    "        act_fn,\n",
    "        nn.ConvTranspose2d(2*out_channels, out_channels, 3, padding=1, \n",
    "                           stride=2, output_padding=1), # (32, 32)\n",
    "        act_fn,\n",
    "        nn.ConvTranspose2d(out_channels, out_channels, 3, padding=1),\n",
    "        act_fn,\n",
    "        nn.ConvTranspose2d(out_channels, in_channels, 3, padding=1)\n",
    "    )\n",
    "\n",
    "  def forward(self, x):\n",
    "    output = self.linear(x)\n",
    "    output = output.view(-1, 4*self.out_channels, 8, 8)\n",
    "    output = self.conv(output)\n",
    "    return output"
   ]
  },
  {
   "cell_type": "code",
   "execution_count": null,
   "metadata": {},
   "outputs": [],
   "source": [
    "class Autoencoder(nn.Module):\n",
    "  def __init__(self, encoder, decoder):\n",
    "    super().__init__()\n",
    "    self.encoder = encoder\n",
    "    self.encoder.to(device)\n",
    "\n",
    "    self.decoder = decoder\n",
    "    self.decoder.to(device)\n",
    "\n",
    "  def forward(self, x):\n",
    "    encoded = self.encoder(x)\n",
    "    decoded = self.decoder(encoded)\n",
    "    return decoded"
   ]
  },
  {
   "cell_type": "code",
   "execution_count": null,
   "metadata": {},
   "outputs": [],
   "source": [
    "class ConvolutionalAutoencoder():\n",
    "  def __init__(self, autoencoder):\n",
    "    self.network = autoencoder\n",
    "    self.optimizer = torch.optim.Adam(self.network.parameters(), lr=1e-3)\n",
    "\n",
    "  def train(self, loss_function, epochs, batch_size, \n",
    "            training_set, validation_set, test_set):\n",
    "    \n",
    "    #  creating log\n",
    "    log_dict = {\n",
    "        'training_loss_per_batch': [],\n",
    "        'validation_loss_per_batch': [],\n",
    "        'visualizations': []\n",
    "    } \n",
    "\n",
    "    #  defining weight initialization function\n",
    "    def init_weights(module):\n",
    "      if isinstance(module, nn.Conv2d):\n",
    "        torch.nn.init.xavier_uniform_(module.weight)\n",
    "        module.bias.data.fill_(0.01)\n",
    "      elif isinstance(module, nn.Linear):\n",
    "        torch.nn.init.xavier_uniform_(module.weight)\n",
    "        module.bias.data.fill_(0.01)\n",
    "\n",
    "    #  initializing network weights\n",
    "    self.network.apply(init_weights)\n",
    "\n",
    "\n",
    "    #  setting convnet to training mode\n",
    "    self.network.train()\n",
    "    self.network.to(device)\n",
    "\n",
    "    for epoch in range(epochs):\n",
    "      print(f'Epoch {epoch+1}/{epochs}')\n",
    "      train_losses = []\n",
    "\n",
    "      #------------\n",
    "      #  TRAINING\n",
    "      #------------\n",
    "      print('training...')\n",
    "      for images in tqdm(train_loader):\n",
    "        #  zeroing gradients\n",
    "        self.optimizer.zero_grad()\n",
    "        #  sending images to device\n",
    "        images = images.to(device)\n",
    "        #  reconstructing images\n",
    "        output = self.network(images)\n",
    "        #  computing loss\n",
    "        loss = loss_function(output, images.view(-1, 3, 32, 32))\n",
    "        #  calculating gradients\n",
    "        loss.backward()\n",
    "        #  optimizing weights\n",
    "        self.optimizer.step()\n",
    "\n",
    "        #--------------\n",
    "        # LOGGING\n",
    "        #--------------\n",
    "        log_dict['training_loss_per_batch'].append(loss.item())\n",
    "\n",
    "      #--------------\n",
    "      # VALIDATION\n",
    "      #--------------\n",
    "      print('validating...')\n",
    "      for val_images in tqdm(test_loader):\n",
    "        with torch.no_grad():\n",
    "          #  sending validation images to device\n",
    "          val_images = val_images.to(device)\n",
    "          #  reconstructing images\n",
    "          output = self.network(val_images)\n",
    "          #  computing validation loss\n",
    "          val_loss = loss_function(output, val_images.view(-1, 3, 32, 32))\n",
    "\n",
    "        #--------------\n",
    "        # LOGGING\n",
    "        #--------------\n",
    "        log_dict['validation_loss_per_batch'].append(val_loss.item())\n",
    "\n",
    "\n",
    "      #--------------\n",
    "      # VISUALISATION\n",
    "      #--------------\n",
    "      print(f'training_loss: {round(loss.item(), 4)} validation_loss: {round(val_loss.item(), 4)}')\n",
    "\n",
    "      for test_images in test_loader:\n",
    "        #  sending test images to device\n",
    "        test_images = test_images.to(device)\n",
    "        with torch.no_grad():\n",
    "          #  reconstructing test images\n",
    "          reconstructed_imgs = self.network(test_images)\n",
    "        #  sending reconstructed and images to cpu to allow for visualization\n",
    "        reconstructed_imgs = reconstructed_imgs.cpu()\n",
    "        test_images = test_images.cpu()\n",
    "\n",
    "        #  visualisation\n",
    "        imgs = torch.stack([test_images.view(-1, 3, 32, 32), reconstructed_imgs], \n",
    "                          dim=1).flatten(0,1)\n",
    "        grid = make_grid(imgs, nrow=10, normalize=True, padding=1)\n",
    "        grid = grid.permute(1, 2, 0)\n",
    "        plt.figure(dpi=170)\n",
    "        plt.title('Original/Reconstructed')\n",
    "        plt.imshow(grid)\n",
    "        log_dict['visualizations'].append(grid)\n",
    "        plt.axis('off')\n",
    "        plt.show()\n",
    "      \n",
    "    return log_dict\n",
    "\n",
    "  def autoencode(self, x):\n",
    "    return self.network(x)\n",
    "\n",
    "  def encode(self, x):\n",
    "    encoder = self.network.encoder\n",
    "    return encoder(x)\n",
    "  \n",
    "  def decode(self, x):\n",
    "    decoder = self.network.decoder\n",
    "    return decoder(x)"
   ]
  },
  {
   "cell_type": "code",
   "execution_count": null,
   "metadata": {},
   "outputs": [],
   "source": [
    "#  training model\n",
    "model = ConvolutionalAutoencoder(Autoencoder(Encoder(), Decoder()))\n",
    "\n",
    "log_dict = model.train(nn.MSELoss(), epochs=10, batch_size=64, \n",
    "                       training_set=dataset, validation_set=dataset,\n",
    "                       test_set=test_data)"
   ]
  }
 ],
 "metadata": {
  "kernelspec": {
   "display_name": ".venv",
   "language": "python",
   "name": "python3"
  },
  "language_info": {
   "codemirror_mode": {
    "name": "ipython",
    "version": 3
   },
   "file_extension": ".py",
   "mimetype": "text/x-python",
   "name": "python",
   "nbconvert_exporter": "python",
   "pygments_lexer": "ipython3",
   "version": "3.10.13"
  }
 },
 "nbformat": 4,
 "nbformat_minor": 2
}
